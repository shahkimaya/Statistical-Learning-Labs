{
  "cells": [
    {
      "cell_type": "markdown",
      "source": [
        "##Lab:-1 Linear Regression (Lab Assignment)\n",
        "Group 9:- \n",
        "Maulik Shah, \n",
        "Kimaya Shah"
      ],
      "metadata": {
        "id": "IdbAftZ8ydGd"
      },
      "id": "IdbAftZ8ydGd"
    },
    {
      "cell_type": "code",
      "execution_count": 2,
      "id": "ae03e671",
      "metadata": {
        "id": "ae03e671"
      },
      "outputs": [],
      "source": [
        "#Import the necessary libraries\n",
        "#For iterative solutions tqdm shows a progress tracker.\n",
        "import numpy as np \n",
        "import pandas as pd \n",
        "import math\n",
        "from sklearn.model_selection import train_test_split\n",
        "from tqdm import tqdm\n",
        "import matplotlib.pyplot as plt\n"
      ]
    },
    {
      "cell_type": "code",
      "execution_count": 4,
      "id": "c8971d2d",
      "metadata": {
        "id": "c8971d2d"
      },
      "outputs": [],
      "source": [
        "#Create a class i.e. series of functions to solve the problem.\n",
        "class LinearRegression:\n",
        "#The first thing we do after creating a class is to pass Input to the class.\n",
        "    def __init__(self, X, y, learningRate, maxIteration, epsilon, gd = False, reg = False, sgd = False, \n",
        "                 regRate = 0.05):\n",
        "      \n",
        "        \"\"\"\n",
        "        Parameters:\n",
        "        X = Data\n",
        "        y = Target\n",
        "        learningRate = Learning Rate\n",
        "        maxIteration = Maximum iterations allowed\n",
        "        reg = Whether reularization is used in the model, values-(True, False)\n",
        "        regRate = Rate of regularization i.e. lambda\n",
        "        \"\"\"\n",
        "   \n",
        "        self.learningRate = learningRate\n",
        "        self.maxIteration = maxIteration\n",
        "        self.epsilon = epsilon\n",
        "        self.X = X\n",
        "        self.y = y\n",
        "        self.gd = gd\n",
        "        self.reg = reg\n",
        "        self.regRate = regRate\n",
        "        self.sgd = sgd\n",
        "\n",
        "    # Dividing the data into training and test data    \n",
        "        \n",
        "    def splitData(self):\n",
        "        \"\"\"\n",
        "        There is no need to pass the parameters X and y again, as we already used\n",
        "        self in the previous function to call the input parameters outside the class.\n",
        "        \"\"\"\n",
        "        X_train, X_test, y_train, y_test = train_test_split(self.X, self.y, test_size=0.3, random_state=0, \n",
        "                                                            shuffle=True)\n",
        "        return X_train, X_test, y_train, y_test\n",
        "    \n",
        "    # Add a column of 1's at the beginning of data to learn the Intercept.\n",
        "\n",
        "    def add_X0(self,X):\n",
        "        \"\"\"\n",
        "        The conventional linear regression line passes through the origin.It doesn't\n",
        "        account for the fact if the line starts from somewhere else. Hence we need\n",
        "        to add an bias/intercept term.\n",
        "        \"\"\"\n",
        "        return np.column_stack([np.ones([X.shape[0],1]),X])\n",
        "    \n",
        "    # def plot_Cost(self):\n",
        "    #     plt.plot(self.error_sequence)\n",
        "    #     plt.xlabel(\"Iterations\")\n",
        "    #     plt.ylabel(\"Cost\")\n",
        "    #     plt.title(\"Iterations vs cost\")\n",
        "    #     plt.show()\n",
        "    \n",
        "    # Normalization of Training and Test data\n",
        "\n",
        "    def normalizeTrain(self, X):\n",
        "\n",
        "        \"\"\"\n",
        "        Everytime we want to scale data, we do that on training data. save the mean\n",
        "        and Standard Deviation and then scale the test data with respect to that mean\n",
        "        and standard deviation.\n",
        "        \"\"\"\n",
        "        mean = np.mean(X, axis=0)\n",
        "        std = np.std(X, axis=0)\n",
        "        X_norm = (X - mean)/ std\n",
        "\n",
        "        X_norm = self.add_X0(X_norm)\n",
        "        return X_norm, mean, std\n",
        "    \n",
        "    def normalizeTest(self, X, mean, std):\n",
        "        \"\"\"\n",
        "        After normalizing the test data we pass only the testdata in the function \n",
        "        fit().\n",
        "        \"\"\"\n",
        "\n",
        "        X_norm = (X - mean)/ std\n",
        "        X_norm = self.add_X0(X_norm)\n",
        "        return X_norm\n",
        "    \n",
        "    def rank(self, X):\n",
        "        u,s,vh = np.linalg.svd(X)\n",
        "        return len([x for x in s if abs(x) > 0])\n",
        "    \n",
        "    #Check if the given matrix is full rank or not.\n",
        "\n",
        "    def checkFullRank(self, X):       #\n",
        "        rank = self.rank(X)\n",
        "        if rank == min(X.shape):      \n",
        "            self.FullRank = True\n",
        "        else:\n",
        "            self.FullRank = False\n",
        "        #return\n",
        "        \n",
        "    def checkLowRank(self, X):     \n",
        "        if X.shape[1] < X.shape[0]:\n",
        "            self.lowRank = False\n",
        "        else:\n",
        "            self.LowRank = True\n",
        "\n",
        "    def normalEquation(self, X, y, reg):       #closed_form_solution\n",
        "        if reg == False:\n",
        "            return np.linalg.inv(X.T.dot(X)).dot(X.T).dot(y) #weight\n",
        "        else:\n",
        "            return np.linalg.inv(X.T.dot(X)-(self.epsilon)*np.eye(X.shape[1])).dot(X.T).dot(y) #weights with regularisation\n",
        "    \n",
        "    def predict(self, X):\n",
        "        return X.dot(self.w)\n",
        "    \n",
        "    def sse(self, X, y):\n",
        "        y_hat = self.predict(X)\n",
        "        return ((y_hat - y)**2).sum()\n",
        "    \n",
        "    def rmse(self, X, y):\n",
        "        y_hat = self.predict(X)\n",
        "        return np.sqrt((((y_hat - y)**2)/X.shape[0]).sum())\n",
        "    \n",
        "    def costFunction(self, X, y):\n",
        "        return self.rmse(X, y)/2\n",
        "\n",
        "    def costDerivative(self, X, y):\n",
        "        y_hat = self.predict(X)\n",
        "        if self.reg == False:\n",
        "            return (y_hat - y).dot(X)\n",
        "        else:\n",
        "            return (y_hat - y).dot(X) + (self.regRate * self.w)\n",
        "\n",
        "    # Using the formula for Gradient descent\n",
        "\n",
        "    def gradient_descent(self, X,y):\n",
        "        self.errors = []\n",
        "        prev_error = float('inf')\n",
        "        for tq in tqdm(range(self.maxIteration)):\n",
        "            if self.gd == True: #gradient descent\n",
        "                self.w = self.w - (self.learningRate * self.costDerivative(X, y))\n",
        "            elif self.sgd == True: #stochastic gradient descent\n",
        "                for i in range(0, X.shape[0], 1):   #batchSize = 1\n",
        "                    X_batch = X[i : i + 1, : ]\n",
        "                    y_batch = y[i : i + 1]\n",
        "                    self.w = self.w - (self.learningRate * self.costDerivative(X_batch, y_batch))\n",
        "            curr_error = self.rmse(X, y)\n",
        "            diff_error = prev_error - curr_error\n",
        "            prev_error = curr_error\n",
        "            self.errors.append(curr_error)\n",
        "            if diff_error < self.epsilon:\n",
        "                break \n",
        "            self.tq = tq\n",
        "        self.plot_rmse()\n",
        "        return self.w\n",
        "    \n",
        "    def fit(self):\n",
        "        self.model =\"\"\n",
        "        X_train, X_test, y_train, y_test = self.splitData()\n",
        "        X_train , self.train_mean, self.train_std = self.normalizeTrain(X_train)\n",
        "        X_test = self.normalizeTest(X_test, self.train_mean, self.train_std)\n",
        "        \n",
        "        self.checkFullRank(X_train)\n",
        "        self.checkLowRank(X_train)\n",
        "\n",
        "        if self.FullRank == True and not self.lowRank and not self.gd and not self.sgd:\n",
        "            print(\"Solving using Closed Normal Equation\")\n",
        "            self.model = \"Closed Form \"+ \"\".join([\"Regularised\" if self.reg==True else \"Not-Regularised\"])\n",
        "            \n",
        "            print()\n",
        "            print(self.model)\n",
        "            \n",
        "            self.w = self.normalEquation(X_train, y_train, self.reg)\n",
        "            test_rmse = self.rmse(X_test, y_test)\n",
        "            test_sse = self.sse(X_test, y_test)\n",
        "            print(\"RMSE error: \",test_rmse)\n",
        "            print(\"SSE error: \", test_sse)\n",
        "\n",
        "        else:\n",
        "            print(\"Solve using Gradient\")\n",
        "            self.model = \"\" + \"\".join([\"Gradient Descent \"if self.gd== True else \"Stochastic Gradient Descent \"]) + \" \".join([\"Regularised\" if self.reg==True else \"Non-Regularised\"])\n",
        "            \n",
        "            print()\n",
        "            print(self.model)\n",
        "            self.w = np.ones(X_train.shape[1], dtype = np.float64)*0\n",
        "            self.w = self.gradient_descent(X_train, y_train)\n",
        "            test_rmse = self.rmse(X_test, y_test)\n",
        "            test_sse = self.sse(X_test, y_test)\n",
        "            print()\n",
        "            print(\"RMSE error: \", test_rmse)\n",
        "            print(\"SSE error: \", test_sse)\n",
        "    \n",
        "\n",
        "        \n",
        "    def plot_rmse1(self):\n",
        "        plt.plot(self.errors)\n",
        "        plt.xlabel(\"Iterations\")\n",
        "        plt.ylabel(\"Cost\")\n",
        "        plt.title(\"Iterations vs cost\")\n",
        "        plt.show()\n",
        "    \n",
        "    def plot_rmse(self):\n",
        "        \"\"\"\n",
        "        @X: error_sequence, vector of rmse\n",
        "        @does: Plots the error function\n",
        "        @return: plot\n",
        "        \"\"\"\n",
        "        # Data for plotting\n",
        "        s = np.array(self.errors)\n",
        "        t = np.arange(s.size)\n",
        "\n",
        "        fig, ax = plt.subplots()\n",
        "        ax.plot(t, s)\n",
        "\n",
        "        # ax.set(xlabel='iterations', ylabel=self.errors,\n",
        "        #        title='{} trend'.format(self.errors))\n",
        "        ax.grid()\n",
        "\n",
        "        #plt.legend(bbox_to_anchor=(1.05,1), loc=2, shadow=True)\n",
        "        plt.show()    \n",
        "    "
      ]
    },
    {
      "cell_type": "code",
      "source": [
        "from google.colab import drive\n",
        "drive.mount('/content/drive')"
      ],
      "metadata": {
        "colab": {
          "base_uri": "https://localhost:8080/"
        },
        "id": "-bBvqPMGQ7wP",
        "outputId": "0ca07b2a-c2fa-4b62-c33d-6afc2498af58"
      },
      "id": "-bBvqPMGQ7wP",
      "execution_count": null,
      "outputs": [
        {
          "output_type": "stream",
          "name": "stdout",
          "text": [
            "Mounted at /content/drive\n"
          ]
        }
      ]
    },
    {
      "cell_type": "code",
      "execution_count": 5,
      "id": "4fcd39dd",
      "metadata": {
        "colab": {
          "base_uri": "https://localhost:8080/",
          "height": 424
        },
        "id": "4fcd39dd",
        "outputId": "180e62a4-e379-4360-f4f4-aeadf3735fbf"
      },
      "outputs": [
        {
          "output_type": "execute_result",
          "data": {
            "text/plain": [
              "     0.00632   18   2.31  0  0.538  6.575  65.2    4.09  1  296  15.3   396.9  \\\n",
              "0    0.02731  0.0   7.07  0  0.469  6.421  78.9  4.9671  2  242  17.8  396.90   \n",
              "1    0.02729  0.0   7.07  0  0.469  7.185  61.1  4.9671  2  242  17.8  392.83   \n",
              "2    0.03237  0.0   2.18  0  0.458  6.998  45.8  6.0622  3  222  18.7  394.63   \n",
              "3    0.06905  0.0   2.18  0  0.458  7.147  54.2  6.0622  3  222  18.7  396.90   \n",
              "4    0.02985  0.0   2.18  0  0.458  6.430  58.7  6.0622  3  222  18.7  394.12   \n",
              "..       ...  ...    ... ..    ...    ...   ...     ... ..  ...   ...     ...   \n",
              "500  0.06263  0.0  11.93  0  0.573  6.593  69.1  2.4786  1  273  21.0  391.99   \n",
              "501  0.04527  0.0  11.93  0  0.573  6.120  76.7  2.2875  1  273  21.0  396.90   \n",
              "502  0.06076  0.0  11.93  0  0.573  6.976  91.0  2.1675  1  273  21.0  396.90   \n",
              "503  0.10959  0.0  11.93  0  0.573  6.794  89.3  2.3889  1  273  21.0  393.45   \n",
              "504  0.04741  0.0  11.93  0  0.573  6.030  80.8  2.5050  1  273  21.0  396.90   \n",
              "\n",
              "     4.98    24  \n",
              "0    9.14  21.6  \n",
              "1    4.03  34.7  \n",
              "2    2.94  33.4  \n",
              "3    5.33  36.2  \n",
              "4    5.21  28.7  \n",
              "..    ...   ...  \n",
              "500  9.67  22.4  \n",
              "501  9.08  20.6  \n",
              "502  5.64  23.9  \n",
              "503  6.48  22.0  \n",
              "504  7.88  11.9  \n",
              "\n",
              "[505 rows x 14 columns]"
            ],
            "text/html": [
              "\n",
              "  <div id=\"df-adb2f087-7acc-42af-a00c-5e7b8e660bd2\">\n",
              "    <div class=\"colab-df-container\">\n",
              "      <div>\n",
              "<style scoped>\n",
              "    .dataframe tbody tr th:only-of-type {\n",
              "        vertical-align: middle;\n",
              "    }\n",
              "\n",
              "    .dataframe tbody tr th {\n",
              "        vertical-align: top;\n",
              "    }\n",
              "\n",
              "    .dataframe thead th {\n",
              "        text-align: right;\n",
              "    }\n",
              "</style>\n",
              "<table border=\"1\" class=\"dataframe\">\n",
              "  <thead>\n",
              "    <tr style=\"text-align: right;\">\n",
              "      <th></th>\n",
              "      <th>0.00632</th>\n",
              "      <th>18</th>\n",
              "      <th>2.31</th>\n",
              "      <th>0</th>\n",
              "      <th>0.538</th>\n",
              "      <th>6.575</th>\n",
              "      <th>65.2</th>\n",
              "      <th>4.09</th>\n",
              "      <th>1</th>\n",
              "      <th>296</th>\n",
              "      <th>15.3</th>\n",
              "      <th>396.9</th>\n",
              "      <th>4.98</th>\n",
              "      <th>24</th>\n",
              "    </tr>\n",
              "  </thead>\n",
              "  <tbody>\n",
              "    <tr>\n",
              "      <th>0</th>\n",
              "      <td>0.02731</td>\n",
              "      <td>0.0</td>\n",
              "      <td>7.07</td>\n",
              "      <td>0</td>\n",
              "      <td>0.469</td>\n",
              "      <td>6.421</td>\n",
              "      <td>78.9</td>\n",
              "      <td>4.9671</td>\n",
              "      <td>2</td>\n",
              "      <td>242</td>\n",
              "      <td>17.8</td>\n",
              "      <td>396.90</td>\n",
              "      <td>9.14</td>\n",
              "      <td>21.6</td>\n",
              "    </tr>\n",
              "    <tr>\n",
              "      <th>1</th>\n",
              "      <td>0.02729</td>\n",
              "      <td>0.0</td>\n",
              "      <td>7.07</td>\n",
              "      <td>0</td>\n",
              "      <td>0.469</td>\n",
              "      <td>7.185</td>\n",
              "      <td>61.1</td>\n",
              "      <td>4.9671</td>\n",
              "      <td>2</td>\n",
              "      <td>242</td>\n",
              "      <td>17.8</td>\n",
              "      <td>392.83</td>\n",
              "      <td>4.03</td>\n",
              "      <td>34.7</td>\n",
              "    </tr>\n",
              "    <tr>\n",
              "      <th>2</th>\n",
              "      <td>0.03237</td>\n",
              "      <td>0.0</td>\n",
              "      <td>2.18</td>\n",
              "      <td>0</td>\n",
              "      <td>0.458</td>\n",
              "      <td>6.998</td>\n",
              "      <td>45.8</td>\n",
              "      <td>6.0622</td>\n",
              "      <td>3</td>\n",
              "      <td>222</td>\n",
              "      <td>18.7</td>\n",
              "      <td>394.63</td>\n",
              "      <td>2.94</td>\n",
              "      <td>33.4</td>\n",
              "    </tr>\n",
              "    <tr>\n",
              "      <th>3</th>\n",
              "      <td>0.06905</td>\n",
              "      <td>0.0</td>\n",
              "      <td>2.18</td>\n",
              "      <td>0</td>\n",
              "      <td>0.458</td>\n",
              "      <td>7.147</td>\n",
              "      <td>54.2</td>\n",
              "      <td>6.0622</td>\n",
              "      <td>3</td>\n",
              "      <td>222</td>\n",
              "      <td>18.7</td>\n",
              "      <td>396.90</td>\n",
              "      <td>5.33</td>\n",
              "      <td>36.2</td>\n",
              "    </tr>\n",
              "    <tr>\n",
              "      <th>4</th>\n",
              "      <td>0.02985</td>\n",
              "      <td>0.0</td>\n",
              "      <td>2.18</td>\n",
              "      <td>0</td>\n",
              "      <td>0.458</td>\n",
              "      <td>6.430</td>\n",
              "      <td>58.7</td>\n",
              "      <td>6.0622</td>\n",
              "      <td>3</td>\n",
              "      <td>222</td>\n",
              "      <td>18.7</td>\n",
              "      <td>394.12</td>\n",
              "      <td>5.21</td>\n",
              "      <td>28.7</td>\n",
              "    </tr>\n",
              "    <tr>\n",
              "      <th>...</th>\n",
              "      <td>...</td>\n",
              "      <td>...</td>\n",
              "      <td>...</td>\n",
              "      <td>...</td>\n",
              "      <td>...</td>\n",
              "      <td>...</td>\n",
              "      <td>...</td>\n",
              "      <td>...</td>\n",
              "      <td>...</td>\n",
              "      <td>...</td>\n",
              "      <td>...</td>\n",
              "      <td>...</td>\n",
              "      <td>...</td>\n",
              "      <td>...</td>\n",
              "    </tr>\n",
              "    <tr>\n",
              "      <th>500</th>\n",
              "      <td>0.06263</td>\n",
              "      <td>0.0</td>\n",
              "      <td>11.93</td>\n",
              "      <td>0</td>\n",
              "      <td>0.573</td>\n",
              "      <td>6.593</td>\n",
              "      <td>69.1</td>\n",
              "      <td>2.4786</td>\n",
              "      <td>1</td>\n",
              "      <td>273</td>\n",
              "      <td>21.0</td>\n",
              "      <td>391.99</td>\n",
              "      <td>9.67</td>\n",
              "      <td>22.4</td>\n",
              "    </tr>\n",
              "    <tr>\n",
              "      <th>501</th>\n",
              "      <td>0.04527</td>\n",
              "      <td>0.0</td>\n",
              "      <td>11.93</td>\n",
              "      <td>0</td>\n",
              "      <td>0.573</td>\n",
              "      <td>6.120</td>\n",
              "      <td>76.7</td>\n",
              "      <td>2.2875</td>\n",
              "      <td>1</td>\n",
              "      <td>273</td>\n",
              "      <td>21.0</td>\n",
              "      <td>396.90</td>\n",
              "      <td>9.08</td>\n",
              "      <td>20.6</td>\n",
              "    </tr>\n",
              "    <tr>\n",
              "      <th>502</th>\n",
              "      <td>0.06076</td>\n",
              "      <td>0.0</td>\n",
              "      <td>11.93</td>\n",
              "      <td>0</td>\n",
              "      <td>0.573</td>\n",
              "      <td>6.976</td>\n",
              "      <td>91.0</td>\n",
              "      <td>2.1675</td>\n",
              "      <td>1</td>\n",
              "      <td>273</td>\n",
              "      <td>21.0</td>\n",
              "      <td>396.90</td>\n",
              "      <td>5.64</td>\n",
              "      <td>23.9</td>\n",
              "    </tr>\n",
              "    <tr>\n",
              "      <th>503</th>\n",
              "      <td>0.10959</td>\n",
              "      <td>0.0</td>\n",
              "      <td>11.93</td>\n",
              "      <td>0</td>\n",
              "      <td>0.573</td>\n",
              "      <td>6.794</td>\n",
              "      <td>89.3</td>\n",
              "      <td>2.3889</td>\n",
              "      <td>1</td>\n",
              "      <td>273</td>\n",
              "      <td>21.0</td>\n",
              "      <td>393.45</td>\n",
              "      <td>6.48</td>\n",
              "      <td>22.0</td>\n",
              "    </tr>\n",
              "    <tr>\n",
              "      <th>504</th>\n",
              "      <td>0.04741</td>\n",
              "      <td>0.0</td>\n",
              "      <td>11.93</td>\n",
              "      <td>0</td>\n",
              "      <td>0.573</td>\n",
              "      <td>6.030</td>\n",
              "      <td>80.8</td>\n",
              "      <td>2.5050</td>\n",
              "      <td>1</td>\n",
              "      <td>273</td>\n",
              "      <td>21.0</td>\n",
              "      <td>396.90</td>\n",
              "      <td>7.88</td>\n",
              "      <td>11.9</td>\n",
              "    </tr>\n",
              "  </tbody>\n",
              "</table>\n",
              "<p>505 rows × 14 columns</p>\n",
              "</div>\n",
              "      <button class=\"colab-df-convert\" onclick=\"convertToInteractive('df-adb2f087-7acc-42af-a00c-5e7b8e660bd2')\"\n",
              "              title=\"Convert this dataframe to an interactive table.\"\n",
              "              style=\"display:none;\">\n",
              "        \n",
              "  <svg xmlns=\"http://www.w3.org/2000/svg\" height=\"24px\"viewBox=\"0 0 24 24\"\n",
              "       width=\"24px\">\n",
              "    <path d=\"M0 0h24v24H0V0z\" fill=\"none\"/>\n",
              "    <path d=\"M18.56 5.44l.94 2.06.94-2.06 2.06-.94-2.06-.94-.94-2.06-.94 2.06-2.06.94zm-11 1L8.5 8.5l.94-2.06 2.06-.94-2.06-.94L8.5 2.5l-.94 2.06-2.06.94zm10 10l.94 2.06.94-2.06 2.06-.94-2.06-.94-.94-2.06-.94 2.06-2.06.94z\"/><path d=\"M17.41 7.96l-1.37-1.37c-.4-.4-.92-.59-1.43-.59-.52 0-1.04.2-1.43.59L10.3 9.45l-7.72 7.72c-.78.78-.78 2.05 0 2.83L4 21.41c.39.39.9.59 1.41.59.51 0 1.02-.2 1.41-.59l7.78-7.78 2.81-2.81c.8-.78.8-2.07 0-2.86zM5.41 20L4 18.59l7.72-7.72 1.47 1.35L5.41 20z\"/>\n",
              "  </svg>\n",
              "      </button>\n",
              "      \n",
              "  <style>\n",
              "    .colab-df-container {\n",
              "      display:flex;\n",
              "      flex-wrap:wrap;\n",
              "      gap: 12px;\n",
              "    }\n",
              "\n",
              "    .colab-df-convert {\n",
              "      background-color: #E8F0FE;\n",
              "      border: none;\n",
              "      border-radius: 50%;\n",
              "      cursor: pointer;\n",
              "      display: none;\n",
              "      fill: #1967D2;\n",
              "      height: 32px;\n",
              "      padding: 0 0 0 0;\n",
              "      width: 32px;\n",
              "    }\n",
              "\n",
              "    .colab-df-convert:hover {\n",
              "      background-color: #E2EBFA;\n",
              "      box-shadow: 0px 1px 2px rgba(60, 64, 67, 0.3), 0px 1px 3px 1px rgba(60, 64, 67, 0.15);\n",
              "      fill: #174EA6;\n",
              "    }\n",
              "\n",
              "    [theme=dark] .colab-df-convert {\n",
              "      background-color: #3B4455;\n",
              "      fill: #D2E3FC;\n",
              "    }\n",
              "\n",
              "    [theme=dark] .colab-df-convert:hover {\n",
              "      background-color: #434B5C;\n",
              "      box-shadow: 0px 1px 3px 1px rgba(0, 0, 0, 0.15);\n",
              "      filter: drop-shadow(0px 1px 2px rgba(0, 0, 0, 0.3));\n",
              "      fill: #FFFFFF;\n",
              "    }\n",
              "  </style>\n",
              "\n",
              "      <script>\n",
              "        const buttonEl =\n",
              "          document.querySelector('#df-adb2f087-7acc-42af-a00c-5e7b8e660bd2 button.colab-df-convert');\n",
              "        buttonEl.style.display =\n",
              "          google.colab.kernel.accessAllowed ? 'block' : 'none';\n",
              "\n",
              "        async function convertToInteractive(key) {\n",
              "          const element = document.querySelector('#df-adb2f087-7acc-42af-a00c-5e7b8e660bd2');\n",
              "          const dataTable =\n",
              "            await google.colab.kernel.invokeFunction('convertToInteractive',\n",
              "                                                     [key], {});\n",
              "          if (!dataTable) return;\n",
              "\n",
              "          const docLinkHtml = 'Like what you see? Visit the ' +\n",
              "            '<a target=\"_blank\" href=https://colab.research.google.com/notebooks/data_table.ipynb>data table notebook</a>'\n",
              "            + ' to learn more about interactive tables.';\n",
              "          element.innerHTML = '';\n",
              "          dataTable['output_type'] = 'display_data';\n",
              "          await google.colab.output.renderOutput(dataTable, element);\n",
              "          const docLink = document.createElement('div');\n",
              "          docLink.innerHTML = docLinkHtml;\n",
              "          element.appendChild(docLink);\n",
              "        }\n",
              "      </script>\n",
              "    </div>\n",
              "  </div>\n",
              "  "
            ]
          },
          "metadata": {},
          "execution_count": 5
        }
      ],
      "source": [
        "df = pd.read_csv(\"housing.csv\")\n",
        "df"
      ]
    },
    {
      "cell_type": "code",
      "source": [
        "X = df.values[: ,0:-1]\n",
        "y = df.values[:, -1]"
      ],
      "metadata": {
        "id": "9wJAsyudIlKU"
      },
      "id": "9wJAsyudIlKU",
      "execution_count": 6,
      "outputs": []
    },
    {
      "cell_type": "markdown",
      "source": [
        "1. Using Normal Equation and learning rate = 0.00001, epsilon = 0.005"
      ],
      "metadata": {
        "id": "fBimmaVNstqC"
      },
      "id": "fBimmaVNstqC"
    },
    {
      "cell_type": "code",
      "execution_count": 7,
      "id": "2422a0f8",
      "metadata": {
        "colab": {
          "base_uri": "https://localhost:8080/"
        },
        "id": "2422a0f8",
        "outputId": "c8856195-89e0-4554-d6ac-80437de62124"
      },
      "outputs": [
        {
          "output_type": "stream",
          "name": "stdout",
          "text": [
            "Solving using Closed Normal Equation\n",
            "\n",
            "Closed Form Not-Regularised\n",
            "RMSE error:  4.624025082730341\n",
            "SSE error:  3250.0044107893395\n"
          ]
        }
      ],
      "source": [
        "clf = LinearRegression(X, y, learningRate = 0.0001, maxIteration = 5000, epsilon = 0.005, gd = False, reg = False, sgd = False)\n",
        "clf.fit()"
      ]
    },
    {
      "cell_type": "code",
      "execution_count": 8,
      "id": "6e843689",
      "metadata": {
        "colab": {
          "base_uri": "https://localhost:8080/"
        },
        "id": "6e843689",
        "outputId": "84572182-d977-4b5e-ad07-671df52d59e4"
      },
      "outputs": [
        {
          "output_type": "stream",
          "name": "stdout",
          "text": [
            "Solving using Closed Normal Equation\n",
            "\n",
            "Closed Form Regularised\n",
            "RMSE error:  4.624029245398744\n",
            "SSE error:  3250.010262270038\n"
          ]
        }
      ],
      "source": [
        "model = LinearRegression(X, y, learningRate = 0.0001, maxIteration = 5000, epsilon = 0.005, gd = False, reg = True, sgd = False)\n",
        "model.fit()"
      ]
    },
    {
      "cell_type": "markdown",
      "source": [
        "2. Using Gradient Descent"
      ],
      "metadata": {
        "id": "x6wX8-MAtIR8"
      },
      "id": "x6wX8-MAtIR8"
    },
    {
      "cell_type": "code",
      "execution_count": 9,
      "id": "475ae9d8",
      "metadata": {
        "colab": {
          "base_uri": "https://localhost:8080/",
          "height": 390
        },
        "id": "475ae9d8",
        "outputId": "e002cf76-3d1b-41f0-b36a-a4c4ba164cfa"
      },
      "outputs": [
        {
          "output_type": "stream",
          "name": "stdout",
          "text": [
            "Solve using Gradient\n",
            "\n",
            "Gradient Descent Non-Regularised\n"
          ]
        },
        {
          "output_type": "stream",
          "name": "stderr",
          "text": [
            "  2%|▏         | 96/5000 [00:00<00:00, 14169.95it/s]\n"
          ]
        },
        {
          "output_type": "display_data",
          "data": {
            "text/plain": [
              "<Figure size 432x288 with 1 Axes>"
            ],
            "image/png": "[encoded data removed]"
          },
          "metadata": {
            "needs_background": "light"
          }
        },
        {
          "output_type": "stream",
          "name": "stdout",
          "text": [
            "\n",
            "RMSE error:  4.7862705265640235\n",
            "SSE error:  3482.074604125229\n"
          ]
        }
      ],
      "source": [
        "model = LinearRegression(X, y, learningRate = 0.0001, maxIteration = 5000, epsilon = 0.005, gd = True, reg = False, sgd = False)\n",
        "model.fit()"
      ]
    },
    {
      "cell_type": "code",
      "execution_count": 10,
      "id": "bcd1c663",
      "metadata": {
        "colab": {
          "base_uri": "https://localhost:8080/",
          "height": 390
        },
        "id": "bcd1c663",
        "outputId": "f7777af7-f297-42b1-f9e3-3c5746b4f428"
      },
      "outputs": [
        {
          "output_type": "stream",
          "name": "stdout",
          "text": [
            "Solve using Gradient\n",
            "\n",
            "Gradient Descent Regularised\n"
          ]
        },
        {
          "output_type": "stream",
          "name": "stderr",
          "text": [
            "  2%|▏         | 96/5000 [00:00<00:00, 15699.82it/s]\n"
          ]
        },
        {
          "output_type": "display_data",
          "data": {
            "text/plain": [
              "<Figure size 432x288 with 1 Axes>"
            ],
            "image/png": "[encoded data removed]"
          },
          "metadata": {
            "needs_background": "light"
          }
        },
        {
          "output_type": "stream",
          "name": "stdout",
          "text": [
            "\n",
            "RMSE error:  4.786560722306283\n",
            "SSE error:  3482.496859345437\n"
          ]
        }
      ],
      "source": [
        "model = LinearRegression(X, y, learningRate = 0.0001, maxIteration = 5000, epsilon = 0.005, gd = True, reg = True, sgd = False)\n",
        "model.fit()"
      ]
    },
    {
      "cell_type": "code",
      "execution_count": 11,
      "id": "602397b4",
      "metadata": {
        "colab": {
          "base_uri": "https://localhost:8080/",
          "height": 390
        },
        "id": "602397b4",
        "outputId": "baa55a73-96ec-426e-8d22-148d413a2f8c"
      },
      "outputs": [
        {
          "output_type": "stream",
          "name": "stdout",
          "text": [
            "Solve using Gradient\n",
            "\n",
            "Stochastic Gradient Descent Non-Regularised\n"
          ]
        },
        {
          "output_type": "stream",
          "name": "stderr",
          "text": [
            "  2%|▏         | 98/5000 [00:00<00:16, 300.38it/s]\n"
          ]
        },
        {
          "output_type": "display_data",
          "data": {
            "text/plain": [
              "<Figure size 432x288 with 1 Axes>"
            ],
            "image/png": "[encoded data removed]"
          },
          "metadata": {
            "needs_background": "light"
          }
        },
        {
          "output_type": "stream",
          "name": "stdout",
          "text": [
            "\n",
            "RMSE error:  4.786694996507344\n",
            "SSE error:  3482.692246417443\n"
          ]
        }
      ],
      "source": [
        "model = LinearRegression(X, y, learningRate = 0.0001, maxIteration = 5000, epsilon = 0.005, gd = False, reg = False, sgd = True)\n",
        "model.fit()"
      ]
    },
    {
      "cell_type": "markdown",
      "source": [
        "3. Using Stochiastic Gradient Descent"
      ],
      "metadata": {
        "id": "i7yYuFX6tPov"
      },
      "id": "i7yYuFX6tPov"
    },
    {
      "cell_type": "code",
      "execution_count": 12,
      "id": "2e2f5bf5",
      "metadata": {
        "colab": {
          "base_uri": "https://localhost:8080/",
          "height": 390
        },
        "id": "2e2f5bf5",
        "outputId": "10dbf2fa-5468-4029-a883-e8a910399194"
      },
      "outputs": [
        {
          "output_type": "stream",
          "name": "stdout",
          "text": [
            "Solve using Gradient\n",
            "\n",
            "Stochastic Gradient Descent Regularised\n"
          ]
        },
        {
          "output_type": "stream",
          "name": "stderr",
          "text": [
            "  2%|▏         | 109/5000 [00:00<00:13, 371.33it/s]\n"
          ]
        },
        {
          "output_type": "display_data",
          "data": {
            "text/plain": [
              "<Figure size 432x288 with 1 Axes>"
            ],
            "image/png": "[encoded data removed]"
          },
          "metadata": {
            "needs_background": "light"
          }
        },
        {
          "output_type": "stream",
          "name": "stdout",
          "text": [
            "\n",
            "RMSE error:  4.9105034525017786\n",
            "SSE error:  3665.182711868846\n"
          ]
        }
      ],
      "source": [
        "model = LinearRegression(X, y, learningRate = 0.0001, maxIteration = 5000, epsilon = 0.005, gd = False, reg = True, sgd = True)\n",
        "model.fit()"
      ]
    },
    {
      "cell_type": "markdown",
      "id": "1e8d45c8",
      "metadata": {
        "id": "1e8d45c8"
      },
      "source": [
        "# Yacht data set\n"
      ]
    },
    {
      "cell_type": "code",
      "execution_count": 16,
      "id": "25d8a322",
      "metadata": {
        "colab": {
          "base_uri": "https://localhost:8080/",
          "height": 424
        },
        "id": "25d8a322",
        "outputId": "315c06cc-4db6-48e8-f761-5d18a9596e23"
      },
      "outputs": [
        {
          "output_type": "execute_result",
          "data": {
            "text/plain": [
              "     -2.3  0.568  4.78  3.99  3.17  0.125   0.11\n",
              "0    -2.3  0.568  4.78  3.99  3.17  0.150   0.27\n",
              "1    -2.3  0.568  4.78  3.99  3.17  0.175   0.47\n",
              "2    -2.3  0.568  4.78  3.99  3.17  0.200   0.78\n",
              "3    -2.3  0.568  4.78  3.99  3.17  0.225   1.18\n",
              "4    -2.3  0.568  4.78  3.99  3.17  0.250   1.82\n",
              "..    ...    ...   ...   ...   ...    ...    ...\n",
              "302  -2.3  0.600  4.34  4.23  2.73  0.350   8.47\n",
              "303  -2.3  0.600  4.34  4.23  2.73  0.375  12.27\n",
              "304  -2.3  0.600  4.34  4.23  2.73  0.400  19.59\n",
              "305  -2.3  0.600  4.34  4.23  2.73  0.425  30.48\n",
              "306  -2.3  0.600  4.34  4.23  2.73  0.450  46.66\n",
              "\n",
              "[307 rows x 7 columns]"
            ],
            "text/html": [
              "\n",
              "  <div id=\"df-2494a2f6-68f6-4938-9776-9cebbb308788\">\n",
              "    <div class=\"colab-df-container\">\n",
              "      <div>\n",
              "<style scoped>\n",
              "    .dataframe tbody tr th:only-of-type {\n",
              "        vertical-align: middle;\n",
              "    }\n",
              "\n",
              "    .dataframe tbody tr th {\n",
              "        vertical-align: top;\n",
              "    }\n",
              "\n",
              "    .dataframe thead th {\n",
              "        text-align: right;\n",
              "    }\n",
              "</style>\n",
              "<table border=\"1\" class=\"dataframe\">\n",
              "  <thead>\n",
              "    <tr style=\"text-align: right;\">\n",
              "      <th></th>\n",
              "      <th>-2.3</th>\n",
              "      <th>0.568</th>\n",
              "      <th>4.78</th>\n",
              "      <th>3.99</th>\n",
              "      <th>3.17</th>\n",
              "      <th>0.125</th>\n",
              "      <th>0.11</th>\n",
              "    </tr>\n",
              "  </thead>\n",
              "  <tbody>\n",
              "    <tr>\n",
              "      <th>0</th>\n",
              "      <td>-2.3</td>\n",
              "      <td>0.568</td>\n",
              "      <td>4.78</td>\n",
              "      <td>3.99</td>\n",
              "      <td>3.17</td>\n",
              "      <td>0.150</td>\n",
              "      <td>0.27</td>\n",
              "    </tr>\n",
              "    <tr>\n",
              "      <th>1</th>\n",
              "      <td>-2.3</td>\n",
              "      <td>0.568</td>\n",
              "      <td>4.78</td>\n",
              "      <td>3.99</td>\n",
              "      <td>3.17</td>\n",
              "      <td>0.175</td>\n",
              "      <td>0.47</td>\n",
              "    </tr>\n",
              "    <tr>\n",
              "      <th>2</th>\n",
              "      <td>-2.3</td>\n",
              "      <td>0.568</td>\n",
              "      <td>4.78</td>\n",
              "      <td>3.99</td>\n",
              "      <td>3.17</td>\n",
              "      <td>0.200</td>\n",
              "      <td>0.78</td>\n",
              "    </tr>\n",
              "    <tr>\n",
              "      <th>3</th>\n",
              "      <td>-2.3</td>\n",
              "      <td>0.568</td>\n",
              "      <td>4.78</td>\n",
              "      <td>3.99</td>\n",
              "      <td>3.17</td>\n",
              "      <td>0.225</td>\n",
              "      <td>1.18</td>\n",
              "    </tr>\n",
              "    <tr>\n",
              "      <th>4</th>\n",
              "      <td>-2.3</td>\n",
              "      <td>0.568</td>\n",
              "      <td>4.78</td>\n",
              "      <td>3.99</td>\n",
              "      <td>3.17</td>\n",
              "      <td>0.250</td>\n",
              "      <td>1.82</td>\n",
              "    </tr>\n",
              "    <tr>\n",
              "      <th>...</th>\n",
              "      <td>...</td>\n",
              "      <td>...</td>\n",
              "      <td>...</td>\n",
              "      <td>...</td>\n",
              "      <td>...</td>\n",
              "      <td>...</td>\n",
              "      <td>...</td>\n",
              "    </tr>\n",
              "    <tr>\n",
              "      <th>302</th>\n",
              "      <td>-2.3</td>\n",
              "      <td>0.600</td>\n",
              "      <td>4.34</td>\n",
              "      <td>4.23</td>\n",
              "      <td>2.73</td>\n",
              "      <td>0.350</td>\n",
              "      <td>8.47</td>\n",
              "    </tr>\n",
              "    <tr>\n",
              "      <th>303</th>\n",
              "      <td>-2.3</td>\n",
              "      <td>0.600</td>\n",
              "      <td>4.34</td>\n",
              "      <td>4.23</td>\n",
              "      <td>2.73</td>\n",
              "      <td>0.375</td>\n",
              "      <td>12.27</td>\n",
              "    </tr>\n",
              "    <tr>\n",
              "      <th>304</th>\n",
              "      <td>-2.3</td>\n",
              "      <td>0.600</td>\n",
              "      <td>4.34</td>\n",
              "      <td>4.23</td>\n",
              "      <td>2.73</td>\n",
              "      <td>0.400</td>\n",
              "      <td>19.59</td>\n",
              "    </tr>\n",
              "    <tr>\n",
              "      <th>305</th>\n",
              "      <td>-2.3</td>\n",
              "      <td>0.600</td>\n",
              "      <td>4.34</td>\n",
              "      <td>4.23</td>\n",
              "      <td>2.73</td>\n",
              "      <td>0.425</td>\n",
              "      <td>30.48</td>\n",
              "    </tr>\n",
              "    <tr>\n",
              "      <th>306</th>\n",
              "      <td>-2.3</td>\n",
              "      <td>0.600</td>\n",
              "      <td>4.34</td>\n",
              "      <td>4.23</td>\n",
              "      <td>2.73</td>\n",
              "      <td>0.450</td>\n",
              "      <td>46.66</td>\n",
              "    </tr>\n",
              "  </tbody>\n",
              "</table>\n",
              "<p>307 rows × 7 columns</p>\n",
              "</div>\n",
              "      <button class=\"colab-df-convert\" onclick=\"convertToInteractive('df-2494a2f6-68f6-4938-9776-9cebbb308788')\"\n",
              "              title=\"Convert this dataframe to an interactive table.\"\n",
              "              style=\"display:none;\">\n",
              "        \n",
              "  <svg xmlns=\"http://www.w3.org/2000/svg\" height=\"24px\"viewBox=\"0 0 24 24\"\n",
              "       width=\"24px\">\n",
              "    <path d=\"M0 0h24v24H0V0z\" fill=\"none\"/>\n",
              "    <path d=\"M18.56 5.44l.94 2.06.94-2.06 2.06-.94-2.06-.94-.94-2.06-.94 2.06-2.06.94zm-11 1L8.5 8.5l.94-2.06 2.06-.94-2.06-.94L8.5 2.5l-.94 2.06-2.06.94zm10 10l.94 2.06.94-2.06 2.06-.94-2.06-.94-.94-2.06-.94 2.06-2.06.94z\"/><path d=\"M17.41 7.96l-1.37-1.37c-.4-.4-.92-.59-1.43-.59-.52 0-1.04.2-1.43.59L10.3 9.45l-7.72 7.72c-.78.78-.78 2.05 0 2.83L4 21.41c.39.39.9.59 1.41.59.51 0 1.02-.2 1.41-.59l7.78-7.78 2.81-2.81c.8-.78.8-2.07 0-2.86zM5.41 20L4 18.59l7.72-7.72 1.47 1.35L5.41 20z\"/>\n",
              "  </svg>\n",
              "      </button>\n",
              "      \n",
              "  <style>\n",
              "    .colab-df-container {\n",
              "      display:flex;\n",
              "      flex-wrap:wrap;\n",
              "      gap: 12px;\n",
              "    }\n",
              "\n",
              "    .colab-df-convert {\n",
              "      background-color: #E8F0FE;\n",
              "      border: none;\n",
              "      border-radius: 50%;\n",
              "      cursor: pointer;\n",
              "      display: none;\n",
              "      fill: #1967D2;\n",
              "      height: 32px;\n",
              "      padding: 0 0 0 0;\n",
              "      width: 32px;\n",
              "    }\n",
              "\n",
              "    .colab-df-convert:hover {\n",
              "      background-color: #E2EBFA;\n",
              "      box-shadow: 0px 1px 2px rgba(60, 64, 67, 0.3), 0px 1px 3px 1px rgba(60, 64, 67, 0.15);\n",
              "      fill: #174EA6;\n",
              "    }\n",
              "\n",
              "    [theme=dark] .colab-df-convert {\n",
              "      background-color: #3B4455;\n",
              "      fill: #D2E3FC;\n",
              "    }\n",
              "\n",
              "    [theme=dark] .colab-df-convert:hover {\n",
              "      background-color: #434B5C;\n",
              "      box-shadow: 0px 1px 3px 1px rgba(0, 0, 0, 0.15);\n",
              "      filter: drop-shadow(0px 1px 2px rgba(0, 0, 0, 0.3));\n",
              "      fill: #FFFFFF;\n",
              "    }\n",
              "  </style>\n",
              "\n",
              "      <script>\n",
              "        const buttonEl =\n",
              "          document.querySelector('#df-2494a2f6-68f6-4938-9776-9cebbb308788 button.colab-df-convert');\n",
              "        buttonEl.style.display =\n",
              "          google.colab.kernel.accessAllowed ? 'block' : 'none';\n",
              "\n",
              "        async function convertToInteractive(key) {\n",
              "          const element = document.querySelector('#df-2494a2f6-68f6-4938-9776-9cebbb308788');\n",
              "          const dataTable =\n",
              "            await google.colab.kernel.invokeFunction('convertToInteractive',\n",
              "                                                     [key], {});\n",
              "          if (!dataTable) return;\n",
              "\n",
              "          const docLinkHtml = 'Like what you see? Visit the ' +\n",
              "            '<a target=\"_blank\" href=https://colab.research.google.com/notebooks/data_table.ipynb>data table notebook</a>'\n",
              "            + ' to learn more about interactive tables.';\n",
              "          element.innerHTML = '';\n",
              "          dataTable['output_type'] = 'display_data';\n",
              "          await google.colab.output.renderOutput(dataTable, element);\n",
              "          const docLink = document.createElement('div');\n",
              "          docLink.innerHTML = docLinkHtml;\n",
              "          element.appendChild(docLink);\n",
              "        }\n",
              "      </script>\n",
              "    </div>\n",
              "  </div>\n",
              "  "
            ]
          },
          "metadata": {},
          "execution_count": 16
        }
      ],
      "source": [
        "ydf = pd.read_csv(\"yachtData (1).csv\")\n",
        "ydf"
      ]
    },
    {
      "cell_type": "code",
      "source": [
        "X_yacht = ydf.values[: ,0:-1]\n",
        "y_yacht = ydf.values[:, -1]"
      ],
      "metadata": {
        "id": "9fa1yxiPt9K2"
      },
      "id": "9fa1yxiPt9K2",
      "execution_count": 20,
      "outputs": []
    },
    {
      "cell_type": "markdown",
      "source": [
        "1. Using Normal Equation and learning rate = 0.001, epsilon = 0.005"
      ],
      "metadata": {
        "id": "stcnHYhDtjJ_"
      },
      "id": "stcnHYhDtjJ_"
    },
    {
      "cell_type": "code",
      "execution_count": 21,
      "id": "fdb495c9",
      "metadata": {
        "colab": {
          "base_uri": "https://localhost:8080/"
        },
        "id": "fdb495c9",
        "outputId": "52f370ff-cf28-4bf3-ec64-ee2bac1e285a"
      },
      "outputs": [
        {
          "output_type": "stream",
          "name": "stdout",
          "text": [
            "Solving using Closed Normal Equation\n",
            "\n",
            "Closed Form Not-Regularised\n",
            "RMSE error:  9.051378846467502\n",
            "SSE error:  7619.25368907198\n"
          ]
        }
      ],
      "source": [
        "clf = LinearRegression(X_yacht, y_yacht, learningRate = 0.0001, maxIteration = 5000, epsilon = 0.005, gd = False, reg = False, sgd = False)\n",
        "clf.fit()"
      ]
    },
    {
      "cell_type": "code",
      "execution_count": 22,
      "id": "1775a95e",
      "metadata": {
        "colab": {
          "base_uri": "https://localhost:8080/"
        },
        "id": "1775a95e",
        "outputId": "824e7d7a-f4fc-4ea9-d150-623bd106c0ab"
      },
      "outputs": [
        {
          "output_type": "stream",
          "name": "stdout",
          "text": [
            "Solving using Closed Normal Equation\n",
            "\n",
            "Closed Form Regularised\n",
            "RMSE error:  9.051472423920854\n",
            "SSE error:  7619.411232812971\n"
          ]
        }
      ],
      "source": [
        "clf = LinearRegression(X_yacht, y_yacht, learningRate = 0.0001, maxIteration = 5000, epsilon = 0.005, gd = False, reg = True, sgd = False)\n",
        "clf.fit()"
      ]
    },
    {
      "cell_type": "markdown",
      "source": [
        "Using Gradient Descent"
      ],
      "metadata": {
        "id": "s0ES60IyyQ0U"
      },
      "id": "s0ES60IyyQ0U"
    },
    {
      "cell_type": "code",
      "execution_count": 23,
      "id": "4e187227",
      "metadata": {
        "colab": {
          "base_uri": "https://localhost:8080/",
          "height": 390
        },
        "id": "4e187227",
        "outputId": "864eaec1-0466-4173-919d-8c6e0b614e49"
      },
      "outputs": [
        {
          "output_type": "stream",
          "name": "stdout",
          "text": [
            "Solve using Gradient\n",
            "\n",
            "Gradient Descent Non-Regularised\n"
          ]
        },
        {
          "output_type": "stream",
          "name": "stderr",
          "text": [
            "  2%|▏         | 114/5000 [00:00<00:00, 10735.31it/s]\n"
          ]
        },
        {
          "output_type": "display_data",
          "data": {
            "text/plain": [
              "<Figure size 432x288 with 1 Axes>"
            ],
            "image/png": "[encoded data removed]"
          },
          "metadata": {
            "needs_background": "light"
          }
        },
        {
          "output_type": "stream",
          "name": "stdout",
          "text": [
            "\n",
            "RMSE error:  8.817398171122674\n",
            "SSE error:  7230.4254772549275\n"
          ]
        }
      ],
      "source": [
        "clf = LinearRegression(X_yacht, y_yacht, learningRate = 0.0001, maxIteration = 5000, epsilon = 0.005, gd = True, reg = False, sgd = False)\n",
        "clf.fit()"
      ]
    },
    {
      "cell_type": "code",
      "execution_count": 24,
      "id": "d70dd8d5",
      "metadata": {
        "colab": {
          "base_uri": "https://localhost:8080/",
          "height": 390
        },
        "id": "d70dd8d5",
        "outputId": "e1b7fe76-3bf0-4e9a-cc58-d0ed3926d228"
      },
      "outputs": [
        {
          "output_type": "stream",
          "name": "stdout",
          "text": [
            "Solve using Gradient\n",
            "\n",
            "Gradient Descent Regularised\n"
          ]
        },
        {
          "output_type": "stream",
          "name": "stderr",
          "text": [
            "  2%|▏         | 114/5000 [00:00<00:00, 12233.92it/s]\n"
          ]
        },
        {
          "output_type": "display_data",
          "data": {
            "text/plain": [
              "<Figure size 432x288 with 1 Axes>"
            ],
            "image/png": "[encoded data removed]"
          },
          "metadata": {
            "needs_background": "light"
          }
        },
        {
          "output_type": "stream",
          "name": "stdout",
          "text": [
            "\n",
            "RMSE error:  8.817128126244139\n",
            "SSE error:  7229.9826006983085\n"
          ]
        }
      ],
      "source": [
        "clf = LinearRegression(X_yacht, y_yacht, learningRate = 0.0001, maxIteration = 5000, epsilon = 0.005, gd = True, reg = True, sgd = False)\n",
        "clf.fit()"
      ]
    },
    {
      "cell_type": "code",
      "execution_count": 25,
      "id": "508fb2b8",
      "metadata": {
        "colab": {
          "base_uri": "https://localhost:8080/",
          "height": 390
        },
        "id": "508fb2b8",
        "outputId": "3ded2e43-c863-4f3b-930c-067223db0b39"
      },
      "outputs": [
        {
          "output_type": "stream",
          "name": "stdout",
          "text": [
            "Solve using Gradient\n",
            "\n",
            "Stochastic Gradient Descent Non-Regularised\n"
          ]
        },
        {
          "output_type": "stream",
          "name": "stderr",
          "text": [
            "  2%|▏         | 114/5000 [00:00<00:06, 715.18it/s]\n"
          ]
        },
        {
          "output_type": "display_data",
          "data": {
            "text/plain": [
              "<Figure size 432x288 with 1 Axes>"
            ],
            "image/png": "[encoded data removed]"
          },
          "metadata": {
            "needs_background": "light"
          }
        },
        {
          "output_type": "stream",
          "name": "stdout",
          "text": [
            "\n",
            "RMSE error:  8.814912160924855\n",
            "SSE error:  7226.348905648343\n"
          ]
        }
      ],
      "source": [
        "clf = LinearRegression(X_yacht, y_yacht, learningRate = 0.0001, maxIteration = 5000, epsilon = 0.005, gd = False, reg = False, sgd = True)\n",
        "clf.fit()"
      ]
    },
    {
      "cell_type": "markdown",
      "source": [
        "Using Stochiastic Gradient Descent"
      ],
      "metadata": {
        "id": "D6HG4wuDu0W6"
      },
      "id": "D6HG4wuDu0W6"
    },
    {
      "cell_type": "code",
      "execution_count": 26,
      "id": "dbc125c3",
      "metadata": {
        "colab": {
          "base_uri": "https://localhost:8080/",
          "height": 390
        },
        "id": "dbc125c3",
        "outputId": "18427501-4be9-411e-91dc-b02f7b324293"
      },
      "outputs": [
        {
          "output_type": "stream",
          "name": "stdout",
          "text": [
            "Solve using Gradient\n",
            "\n",
            "Stochastic Gradient Descent Regularised\n"
          ]
        },
        {
          "output_type": "stream",
          "name": "stderr",
          "text": [
            "  2%|▏         | 120/5000 [00:00<00:15, 313.69it/s]\n"
          ]
        },
        {
          "output_type": "display_data",
          "data": {
            "text/plain": [
              "<Figure size 432x288 with 1 Axes>"
            ],
            "image/png": "[encoded data removed]"
          },
          "metadata": {
            "needs_background": "light"
          }
        },
        {
          "output_type": "stream",
          "name": "stdout",
          "text": [
            "\n",
            "RMSE error:  8.785148913074803\n",
            "SSE error:  7177.632252515643\n"
          ]
        }
      ],
      "source": [
        "clf = LinearRegression(X_yacht, y_yacht, learningRate = 0.0001, maxIteration = 5000, epsilon = 0.005, gd = False, reg = True, sgd = True)\n",
        "clf.fit()"
      ]
    },
    {
      "cell_type": "markdown",
      "id": "80e809bc",
      "metadata": {
        "id": "80e809bc"
      },
      "source": [
        "# concreteData\n"
      ]
    },
    {
      "cell_type": "code",
      "execution_count": 27,
      "id": "6bfc0685",
      "metadata": {
        "colab": {
          "base_uri": "https://localhost:8080/",
          "height": 424
        },
        "id": "6bfc0685",
        "outputId": "25db8c7f-f072-492c-c992-561d0759f28a"
      },
      "outputs": [
        {
          "output_type": "execute_result",
          "data": {
            "text/plain": [
              "        540      0    0.1    162   2.5    1040    676   28  79.99\n",
              "0     540.0    0.0    0.0  162.0   2.5  1055.0  676.0   28  61.89\n",
              "1     332.5  142.5    0.0  228.0   0.0   932.0  594.0  270  40.27\n",
              "2     332.5  142.5    0.0  228.0   0.0   932.0  594.0  365  41.05\n",
              "3     198.6  132.4    0.0  192.0   0.0   978.4  825.5  360  44.30\n",
              "4     266.0  114.0    0.0  228.0   0.0   932.0  670.0   90  47.03\n",
              "...     ...    ...    ...    ...   ...     ...    ...  ...    ...\n",
              "1024  276.4  116.0   90.3  179.6   8.9   870.1  768.3   28  44.28\n",
              "1025  322.2    0.0  115.6  196.0  10.4   817.9  813.4   28  31.18\n",
              "1026  148.5  139.4  108.6  192.7   6.1   892.4  780.0   28  23.70\n",
              "1027  159.1  186.7    0.0  175.6  11.3   989.6  788.9   28  32.77\n",
              "1028  260.9  100.5   78.3  200.6   8.6   864.5  761.5   28  32.40\n",
              "\n",
              "[1029 rows x 9 columns]"
            ],
            "text/html": [
              "\n",
              "  <div id=\"df-f3f5f762-0f35-4619-98be-81d16a6af2cc\">\n",
              "    <div class=\"colab-df-container\">\n",
              "      <div>\n",
              "<style scoped>\n",
              "    .dataframe tbody tr th:only-of-type {\n",
              "        vertical-align: middle;\n",
              "    }\n",
              "\n",
              "    .dataframe tbody tr th {\n",
              "        vertical-align: top;\n",
              "    }\n",
              "\n",
              "    .dataframe thead th {\n",
              "        text-align: right;\n",
              "    }\n",
              "</style>\n",
              "<table border=\"1\" class=\"dataframe\">\n",
              "  <thead>\n",
              "    <tr style=\"text-align: right;\">\n",
              "      <th></th>\n",
              "      <th>540</th>\n",
              "      <th>0</th>\n",
              "      <th>0.1</th>\n",
              "      <th>162</th>\n",
              "      <th>2.5</th>\n",
              "      <th>1040</th>\n",
              "      <th>676</th>\n",
              "      <th>28</th>\n",
              "      <th>79.99</th>\n",
              "    </tr>\n",
              "  </thead>\n",
              "  <tbody>\n",
              "    <tr>\n",
              "      <th>0</th>\n",
              "      <td>540.0</td>\n",
              "      <td>0.0</td>\n",
              "      <td>0.0</td>\n",
              "      <td>162.0</td>\n",
              "      <td>2.5</td>\n",
              "      <td>1055.0</td>\n",
              "      <td>676.0</td>\n",
              "      <td>28</td>\n",
              "      <td>61.89</td>\n",
              "    </tr>\n",
              "    <tr>\n",
              "      <th>1</th>\n",
              "      <td>332.5</td>\n",
              "      <td>142.5</td>\n",
              "      <td>0.0</td>\n",
              "      <td>228.0</td>\n",
              "      <td>0.0</td>\n",
              "      <td>932.0</td>\n",
              "      <td>594.0</td>\n",
              "      <td>270</td>\n",
              "      <td>40.27</td>\n",
              "    </tr>\n",
              "    <tr>\n",
              "      <th>2</th>\n",
              "      <td>332.5</td>\n",
              "      <td>142.5</td>\n",
              "      <td>0.0</td>\n",
              "      <td>228.0</td>\n",
              "      <td>0.0</td>\n",
              "      <td>932.0</td>\n",
              "      <td>594.0</td>\n",
              "      <td>365</td>\n",
              "      <td>41.05</td>\n",
              "    </tr>\n",
              "    <tr>\n",
              "      <th>3</th>\n",
              "      <td>198.6</td>\n",
              "      <td>132.4</td>\n",
              "      <td>0.0</td>\n",
              "      <td>192.0</td>\n",
              "      <td>0.0</td>\n",
              "      <td>978.4</td>\n",
              "      <td>825.5</td>\n",
              "      <td>360</td>\n",
              "      <td>44.30</td>\n",
              "    </tr>\n",
              "    <tr>\n",
              "      <th>4</th>\n",
              "      <td>266.0</td>\n",
              "      <td>114.0</td>\n",
              "      <td>0.0</td>\n",
              "      <td>228.0</td>\n",
              "      <td>0.0</td>\n",
              "      <td>932.0</td>\n",
              "      <td>670.0</td>\n",
              "      <td>90</td>\n",
              "      <td>47.03</td>\n",
              "    </tr>\n",
              "    <tr>\n",
              "      <th>...</th>\n",
              "      <td>...</td>\n",
              "      <td>...</td>\n",
              "      <td>...</td>\n",
              "      <td>...</td>\n",
              "      <td>...</td>\n",
              "      <td>...</td>\n",
              "      <td>...</td>\n",
              "      <td>...</td>\n",
              "      <td>...</td>\n",
              "    </tr>\n",
              "    <tr>\n",
              "      <th>1024</th>\n",
              "      <td>276.4</td>\n",
              "      <td>116.0</td>\n",
              "      <td>90.3</td>\n",
              "      <td>179.6</td>\n",
              "      <td>8.9</td>\n",
              "      <td>870.1</td>\n",
              "      <td>768.3</td>\n",
              "      <td>28</td>\n",
              "      <td>44.28</td>\n",
              "    </tr>\n",
              "    <tr>\n",
              "      <th>1025</th>\n",
              "      <td>322.2</td>\n",
              "      <td>0.0</td>\n",
              "      <td>115.6</td>\n",
              "      <td>196.0</td>\n",
              "      <td>10.4</td>\n",
              "      <td>817.9</td>\n",
              "      <td>813.4</td>\n",
              "      <td>28</td>\n",
              "      <td>31.18</td>\n",
              "    </tr>\n",
              "    <tr>\n",
              "      <th>1026</th>\n",
              "      <td>148.5</td>\n",
              "      <td>139.4</td>\n",
              "      <td>108.6</td>\n",
              "      <td>192.7</td>\n",
              "      <td>6.1</td>\n",
              "      <td>892.4</td>\n",
              "      <td>780.0</td>\n",
              "      <td>28</td>\n",
              "      <td>23.70</td>\n",
              "    </tr>\n",
              "    <tr>\n",
              "      <th>1027</th>\n",
              "      <td>159.1</td>\n",
              "      <td>186.7</td>\n",
              "      <td>0.0</td>\n",
              "      <td>175.6</td>\n",
              "      <td>11.3</td>\n",
              "      <td>989.6</td>\n",
              "      <td>788.9</td>\n",
              "      <td>28</td>\n",
              "      <td>32.77</td>\n",
              "    </tr>\n",
              "    <tr>\n",
              "      <th>1028</th>\n",
              "      <td>260.9</td>\n",
              "      <td>100.5</td>\n",
              "      <td>78.3</td>\n",
              "      <td>200.6</td>\n",
              "      <td>8.6</td>\n",
              "      <td>864.5</td>\n",
              "      <td>761.5</td>\n",
              "      <td>28</td>\n",
              "      <td>32.40</td>\n",
              "    </tr>\n",
              "  </tbody>\n",
              "</table>\n",
              "<p>1029 rows × 9 columns</p>\n",
              "</div>\n",
              "      <button class=\"colab-df-convert\" onclick=\"convertToInteractive('df-f3f5f762-0f35-4619-98be-81d16a6af2cc')\"\n",
              "              title=\"Convert this dataframe to an interactive table.\"\n",
              "              style=\"display:none;\">\n",
              "        \n",
              "  <svg xmlns=\"http://www.w3.org/2000/svg\" height=\"24px\"viewBox=\"0 0 24 24\"\n",
              "       width=\"24px\">\n",
              "    <path d=\"M0 0h24v24H0V0z\" fill=\"none\"/>\n",
              "    <path d=\"M18.56 5.44l.94 2.06.94-2.06 2.06-.94-2.06-.94-.94-2.06-.94 2.06-2.06.94zm-11 1L8.5 8.5l.94-2.06 2.06-.94-2.06-.94L8.5 2.5l-.94 2.06-2.06.94zm10 10l.94 2.06.94-2.06 2.06-.94-2.06-.94-.94-2.06-.94 2.06-2.06.94z\"/><path d=\"M17.41 7.96l-1.37-1.37c-.4-.4-.92-.59-1.43-.59-.52 0-1.04.2-1.43.59L10.3 9.45l-7.72 7.72c-.78.78-.78 2.05 0 2.83L4 21.41c.39.39.9.59 1.41.59.51 0 1.02-.2 1.41-.59l7.78-7.78 2.81-2.81c.8-.78.8-2.07 0-2.86zM5.41 20L4 18.59l7.72-7.72 1.47 1.35L5.41 20z\"/>\n",
              "  </svg>\n",
              "      </button>\n",
              "      \n",
              "  <style>\n",
              "    .colab-df-container {\n",
              "      display:flex;\n",
              "      flex-wrap:wrap;\n",
              "      gap: 12px;\n",
              "    }\n",
              "\n",
              "    .colab-df-convert {\n",
              "      background-color: #E8F0FE;\n",
              "      border: none;\n",
              "      border-radius: 50%;\n",
              "      cursor: pointer;\n",
              "      display: none;\n",
              "      fill: #1967D2;\n",
              "      height: 32px;\n",
              "      padding: 0 0 0 0;\n",
              "      width: 32px;\n",
              "    }\n",
              "\n",
              "    .colab-df-convert:hover {\n",
              "      background-color: #E2EBFA;\n",
              "      box-shadow: 0px 1px 2px rgba(60, 64, 67, 0.3), 0px 1px 3px 1px rgba(60, 64, 67, 0.15);\n",
              "      fill: #174EA6;\n",
              "    }\n",
              "\n",
              "    [theme=dark] .colab-df-convert {\n",
              "      background-color: #3B4455;\n",
              "      fill: #D2E3FC;\n",
              "    }\n",
              "\n",
              "    [theme=dark] .colab-df-convert:hover {\n",
              "      background-color: #434B5C;\n",
              "      box-shadow: 0px 1px 3px 1px rgba(0, 0, 0, 0.15);\n",
              "      filter: drop-shadow(0px 1px 2px rgba(0, 0, 0, 0.3));\n",
              "      fill: #FFFFFF;\n",
              "    }\n",
              "  </style>\n",
              "\n",
              "      <script>\n",
              "        const buttonEl =\n",
              "          document.querySelector('#df-f3f5f762-0f35-4619-98be-81d16a6af2cc button.colab-df-convert');\n",
              "        buttonEl.style.display =\n",
              "          google.colab.kernel.accessAllowed ? 'block' : 'none';\n",
              "\n",
              "        async function convertToInteractive(key) {\n",
              "          const element = document.querySelector('#df-f3f5f762-0f35-4619-98be-81d16a6af2cc');\n",
              "          const dataTable =\n",
              "            await google.colab.kernel.invokeFunction('convertToInteractive',\n",
              "                                                     [key], {});\n",
              "          if (!dataTable) return;\n",
              "\n",
              "          const docLinkHtml = 'Like what you see? Visit the ' +\n",
              "            '<a target=\"_blank\" href=https://colab.research.google.com/notebooks/data_table.ipynb>data table notebook</a>'\n",
              "            + ' to learn more about interactive tables.';\n",
              "          element.innerHTML = '';\n",
              "          dataTable['output_type'] = 'display_data';\n",
              "          await google.colab.output.renderOutput(dataTable, element);\n",
              "          const docLink = document.createElement('div');\n",
              "          docLink.innerHTML = docLinkHtml;\n",
              "          element.appendChild(docLink);\n",
              "        }\n",
              "      </script>\n",
              "    </div>\n",
              "  </div>\n",
              "  "
            ]
          },
          "metadata": {},
          "execution_count": 27
        }
      ],
      "source": [
        "cdf = pd.read_csv(\"concreteData (1).csv\")\n",
        "cdf"
      ]
    },
    {
      "cell_type": "code",
      "source": [
        "X_c = cdf.values[: ,0:-1]\n",
        "y_c = cdf.values[:, -1]"
      ],
      "metadata": {
        "id": "QCM3IxWVvR5x"
      },
      "id": "QCM3IxWVvR5x",
      "execution_count": 28,
      "outputs": []
    },
    {
      "cell_type": "code",
      "execution_count": 29,
      "id": "17eb8baa",
      "metadata": {
        "colab": {
          "base_uri": "https://localhost:8080/"
        },
        "id": "17eb8baa",
        "outputId": "a91e3c50-d91d-4a57-f853-4721890276f1"
      },
      "outputs": [
        {
          "output_type": "stream",
          "name": "stdout",
          "text": [
            "Solving using Closed Normal Equation\n",
            "\n",
            "Closed Form Not-Regularised\n",
            "RMSE error:  11.106342967100197\n",
            "SSE error:  38115.413917782505\n"
          ]
        }
      ],
      "source": [
        "clf = LinearRegression(X_c, y_c, learningRate = 0.0001, maxIteration = 5000, epsilon = 0.005, gd = False, reg = False, sgd = False)\n",
        "clf.fit()"
      ]
    },
    {
      "cell_type": "code",
      "execution_count": 30,
      "id": "5e5cc8e1",
      "metadata": {
        "colab": {
          "base_uri": "https://localhost:8080/"
        },
        "id": "5e5cc8e1",
        "outputId": "64e08927-2218-48af-dec8-fec2b829bbc9"
      },
      "outputs": [
        {
          "output_type": "stream",
          "name": "stdout",
          "text": [
            "Solving using Closed Normal Equation\n",
            "\n",
            "Closed Form Regularised\n",
            "RMSE error:  11.106366258107801\n",
            "SSE error:  38115.57378090375\n"
          ]
        }
      ],
      "source": [
        "clf = LinearRegression(X_c, y_c, learningRate = 0.0001, maxIteration = 5000, epsilon = 0.005, gd = False, reg = True, sgd = False)\n",
        "clf.fit()"
      ]
    },
    {
      "cell_type": "markdown",
      "source": [
        "Using Gradient Descent"
      ],
      "metadata": {
        "id": "EI3NEg4hyMzi"
      },
      "id": "EI3NEg4hyMzi"
    },
    {
      "cell_type": "code",
      "execution_count": 31,
      "id": "b17f160c",
      "metadata": {
        "colab": {
          "base_uri": "https://localhost:8080/",
          "height": 390
        },
        "id": "b17f160c",
        "outputId": "eb7cf193-fbef-4adb-8734-d221fd2862af"
      },
      "outputs": [
        {
          "output_type": "stream",
          "name": "stdout",
          "text": [
            "Solve using Gradient\n",
            "\n",
            "Gradient Descent Non-Regularised\n"
          ]
        },
        {
          "output_type": "stream",
          "name": "stderr",
          "text": [
            "  1%|          | 58/5000 [00:00<00:00, 13793.92it/s]\n"
          ]
        },
        {
          "output_type": "display_data",
          "data": {
            "text/plain": [
              "<Figure size 432x288 with 1 Axes>"
            ],
            "image/png": "[encoded data removed]"
          },
          "metadata": {
            "needs_background": "light"
          }
        },
        {
          "output_type": "stream",
          "name": "stdout",
          "text": [
            "\n",
            "RMSE error:  11.316313774102879\n",
            "SSE error:  39570.21784709072\n"
          ]
        }
      ],
      "source": [
        "clf = LinearRegression(X_c, y_c, learningRate = 0.0001, maxIteration = 5000, epsilon = 0.005, gd = True, reg = False, sgd = False)\n",
        "clf.fit()"
      ]
    },
    {
      "cell_type": "code",
      "execution_count": 32,
      "id": "7d3495f8",
      "metadata": {
        "colab": {
          "base_uri": "https://localhost:8080/",
          "height": 390
        },
        "id": "7d3495f8",
        "outputId": "483cd687-3c4d-4a0f-9756-154fb1324657"
      },
      "outputs": [
        {
          "output_type": "stream",
          "name": "stdout",
          "text": [
            "Solve using Gradient\n",
            "\n",
            "Gradient Descent Regularised\n"
          ]
        },
        {
          "output_type": "stream",
          "name": "stderr",
          "text": [
            "  1%|          | 58/5000 [00:00<00:00, 20073.41it/s]\n"
          ]
        },
        {
          "output_type": "display_data",
          "data": {
            "text/plain": [
              "<Figure size 432x288 with 1 Axes>"
            ],
            "image/png": "[encoded data removed]"
          },
          "metadata": {
            "needs_background": "light"
          }
        },
        {
          "output_type": "stream",
          "name": "stdout",
          "text": [
            "\n",
            "RMSE error:  11.316336930350108\n",
            "SSE error:  39570.37979005256\n"
          ]
        }
      ],
      "source": [
        "clf = LinearRegression(X_c, y_c, learningRate = 0.0001, maxIteration = 5000, epsilon = 0.005, gd = True, reg = True, sgd = False)\n",
        "clf.fit()"
      ]
    },
    {
      "cell_type": "code",
      "execution_count": 33,
      "id": "c045e1fc",
      "metadata": {
        "colab": {
          "base_uri": "https://localhost:8080/",
          "height": 390
        },
        "id": "c045e1fc",
        "outputId": "a74b8fc8-e327-4107-97ca-58949e37c5b7"
      },
      "outputs": [
        {
          "output_type": "stream",
          "name": "stdout",
          "text": [
            "Solve using Gradient\n",
            "\n",
            "Stochastic Gradient Descent Non-Regularised\n"
          ]
        },
        {
          "output_type": "stream",
          "name": "stderr",
          "text": [
            "  1%|          | 60/5000 [00:00<00:21, 229.70it/s]\n"
          ]
        },
        {
          "output_type": "display_data",
          "data": {
            "text/plain": [
              "<Figure size 432x288 with 1 Axes>"
            ],
            "image/png": "[encoded data removed]"
          },
          "metadata": {
            "needs_background": "light"
          }
        },
        {
          "output_type": "stream",
          "name": "stdout",
          "text": [
            "\n",
            "RMSE error:  11.30315477764621\n",
            "SSE error:  39478.24414957473\n"
          ]
        }
      ],
      "source": [
        "clf = LinearRegression(X_c, y_c, learningRate = 0.0001, maxIteration = 5000, epsilon = 0.005, gd = False, reg = False, sgd = True)\n",
        "clf.fit()"
      ]
    },
    {
      "cell_type": "markdown",
      "source": [
        "Using Stochiastic Gradient Descent"
      ],
      "metadata": {
        "id": "wJJKT283yJBm"
      },
      "id": "wJJKT283yJBm"
    },
    {
      "cell_type": "code",
      "execution_count": 34,
      "id": "1e3a02b8",
      "metadata": {
        "colab": {
          "base_uri": "https://localhost:8080/",
          "height": 390
        },
        "id": "1e3a02b8",
        "outputId": "249b57bf-3f6e-45b7-efaa-809496f610e9"
      },
      "outputs": [
        {
          "output_type": "stream",
          "name": "stdout",
          "text": [
            "Solve using Gradient\n",
            "\n",
            "Stochastic Gradient Descent Regularised\n"
          ]
        },
        {
          "output_type": "stream",
          "name": "stderr",
          "text": [
            "  1%|▏         | 69/5000 [00:00<00:26, 188.08it/s]\n"
          ]
        },
        {
          "output_type": "display_data",
          "data": {
            "text/plain": [
              "<Figure size 432x288 with 1 Axes>"
            ],
            "image/png": "[encoded data removed]"
          },
          "metadata": {
            "needs_background": "light"
          }
        },
        {
          "output_type": "stream",
          "name": "stdout",
          "text": [
            "\n",
            "RMSE error:  11.405188720134728\n",
            "SSE error:  40194.203890243516\n"
          ]
        }
      ],
      "source": [
        "clf = LinearRegression(X_c, y_c, learningRate = 0.0001, maxIteration = 5000, epsilon = 0.005, gd = False, reg = True, sgd = True)\n",
        "clf.fit()"
      ]
    },
    {
      "cell_type": "markdown",
      "source": [
        "a. For housing dataset Normal Form performs better with less RMSE\n",
        "\n",
        "b. For Yacht dataset Stochastic Gradient Descent performs better with less RMSE \n",
        "\n",
        "c. For Concrete dataset  Gradient Descent performs better with less RMSE"
      ],
      "metadata": {
        "id": "uhwwFddXwTO8"
      },
      "id": "uhwwFddXwTO8"
    },
    {
      "cell_type": "markdown",
      "source": [
        "In GD and SGD From the graphs we can see that if the learning rate is high cost function converges quickly and needs minimum iterations but at the same time it gives high cost means while convergin quickly it missed the optimum value of theta. Hence the learning rate should be adjusted the right value of alpha.\n",
        "With regularization we get less error and also chosing the Normal, Gradient descent and Stochastic GD varies our cost function"
      ],
      "metadata": {
        "id": "l_oEkFbJw9Ar"
      },
      "id": "l_oEkFbJw9Ar"
    },
    {
      "cell_type": "code",
      "execution_count": null,
      "id": "f5c6abed",
      "metadata": {
        "id": "f5c6abed"
      },
      "outputs": [],
      "source": []
    }
  ],
  "metadata": {
    "kernelspec": {
      "display_name": "Python 3",
      "language": "python",
      "name": "python3"
    },
    "language_info": {
      "codemirror_mode": {
        "name": "ipython",
        "version": 3
      },
      "file_extension": ".py",
      "mimetype": "text/x-python",
      "name": "python",
      "nbconvert_exporter": "python",
      "pygments_lexer": "ipython3",
      "version": "3.8.8"
    },
    "colab": {
      "provenance": []
    }
  },
  "nbformat": 4,
  "nbformat_minor": 5
}